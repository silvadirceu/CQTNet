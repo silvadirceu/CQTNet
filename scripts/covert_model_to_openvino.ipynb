{
 "cells": [
  {
   "cell_type": "code",
   "execution_count": 6,
   "metadata": {},
   "outputs": [],
   "source": [
    "import sys\n",
    "sys.path.append(\"..\")\n",
    "import torch\n",
    "from models.CQTNet import CQTNet\n",
    "import openvino as ov\n",
    "import os"
   ]
  },
  {
   "cell_type": "code",
   "execution_count": 7,
   "metadata": {},
   "outputs": [],
   "source": [
    "CQTNET_MODEL_PATH = \"/home/lennon/workspace/CQTNet/check_points/CQTNet.pth\"\n",
    "CQTNET_OV_MODEL_PATH = \"/home/lennon/workspace/CQTNet/check_points/openvino/CQTNET.xml\""
   ]
  },
  {
   "cell_type": "code",
   "execution_count": 8,
   "metadata": {},
   "outputs": [],
   "source": [
    "cqtnet_model = CQTNet()\n",
    "cqtnet_model.load_state_dict(torch.load(CQTNET_MODEL_PATH, map_location=torch.device('cpu')))\n",
    "cqtnet_model.eval()\n",
    "ov_model_cqtnet = ov.convert_model(cqtnet_model)"
   ]
  },
  {
   "cell_type": "code",
   "execution_count": 9,
   "metadata": {},
   "outputs": [
    {
     "name": "stdout",
     "output_type": "stream",
     "text": [
      "OpenVino model created\n"
     ]
    }
   ],
   "source": [
    "if not os.path.isfile(CQTNET_OV_MODEL_PATH):\n",
    "    ov.save_model(ov_model_cqtnet, CQTNET_OV_MODEL_PATH)\n",
    "    print(\"OpenVino model created\")\n",
    "else:\n",
    "    print(\"OpenVino model already exists\")"
   ]
  }
 ],
 "metadata": {
  "kernelspec": {
   "display_name": "feature_extraction",
   "language": "python",
   "name": "python3"
  },
  "language_info": {
   "codemirror_mode": {
    "name": "ipython",
    "version": 3
   },
   "file_extension": ".py",
   "mimetype": "text/x-python",
   "name": "python",
   "nbconvert_exporter": "python",
   "pygments_lexer": "ipython3",
   "version": "3.9.19"
  }
 },
 "nbformat": 4,
 "nbformat_minor": 2
}
