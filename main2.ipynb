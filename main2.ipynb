{
 "cells": [
  {
   "cell_type": "code",
   "execution_count": 2,
   "metadata": {},
   "outputs": [
    {
     "name": "stdout",
     "output_type": "stream",
     "text": [
      "Collecting torchnet\n",
      "  Downloading torchnet-0.0.4.tar.gz (23 kB)\n",
      "  Preparing metadata (setup.py) ... \u001b[?25ldone\n",
      "\u001b[?25hRequirement already satisfied: torch in /Users/dirceusilva/.pyenv/versions/3.9.7/envs/ecad/lib/python3.9/site-packages (from torchnet) (2.0.1)\n",
      "Requirement already satisfied: six in /Users/dirceusilva/.pyenv/versions/3.9.7/envs/ecad/lib/python3.9/site-packages (from torchnet) (1.16.0)\n",
      "Collecting visdom (from torchnet)\n",
      "  Downloading visdom-0.2.4.tar.gz (1.4 MB)\n",
      "\u001b[2K     \u001b[90m━━━━━━━━━━━━━━━━━━━━━━━━━━━━━━━━━━━━━━━━\u001b[0m \u001b[32m1.4/1.4 MB\u001b[0m \u001b[31m2.4 MB/s\u001b[0m eta \u001b[36m0:00:00\u001b[0m00:01\u001b[0m00:01\u001b[0m\n",
      "\u001b[?25h  Preparing metadata (setup.py) ... \u001b[?25ldone\n",
      "\u001b[?25hRequirement already satisfied: filelock in /Users/dirceusilva/.pyenv/versions/3.9.7/envs/ecad/lib/python3.9/site-packages (from torch->torchnet) (3.12.2)\n",
      "Requirement already satisfied: typing-extensions in /Users/dirceusilva/.pyenv/versions/3.9.7/envs/ecad/lib/python3.9/site-packages (from torch->torchnet) (4.5.0)\n",
      "Requirement already satisfied: sympy in /Users/dirceusilva/.pyenv/versions/3.9.7/envs/ecad/lib/python3.9/site-packages (from torch->torchnet) (1.12)\n",
      "Requirement already satisfied: networkx in /Users/dirceusilva/.pyenv/versions/3.9.7/envs/ecad/lib/python3.9/site-packages (from torch->torchnet) (3.1)\n",
      "Requirement already satisfied: jinja2 in /Users/dirceusilva/.pyenv/versions/3.9.7/envs/ecad/lib/python3.9/site-packages (from torch->torchnet) (3.1.2)\n",
      "Requirement already satisfied: numpy>=1.8 in /Users/dirceusilva/.pyenv/versions/3.9.7/envs/ecad/lib/python3.9/site-packages (from visdom->torchnet) (1.23.5)\n",
      "Requirement already satisfied: scipy in /Users/dirceusilva/.pyenv/versions/3.9.7/envs/ecad/lib/python3.9/site-packages (from visdom->torchnet) (1.11.1)\n",
      "Requirement already satisfied: requests in /Users/dirceusilva/.pyenv/versions/3.9.7/envs/ecad/lib/python3.9/site-packages (from visdom->torchnet) (2.31.0)\n",
      "Requirement already satisfied: tornado in /Users/dirceusilva/.pyenv/versions/3.9.7/envs/ecad/lib/python3.9/site-packages (from visdom->torchnet) (6.3.3)\n",
      "Collecting jsonpatch (from visdom->torchnet)\n",
      "  Using cached jsonpatch-1.33-py2.py3-none-any.whl.metadata (3.0 kB)\n",
      "Requirement already satisfied: websocket-client in /Users/dirceusilva/.pyenv/versions/3.9.7/envs/ecad/lib/python3.9/site-packages (from visdom->torchnet) (1.6.1)\n",
      "Requirement already satisfied: pillow in /Users/dirceusilva/.pyenv/versions/3.9.7/envs/ecad/lib/python3.9/site-packages (from visdom->torchnet) (10.2.0)\n",
      "Requirement already satisfied: MarkupSafe>=2.0 in /Users/dirceusilva/.pyenv/versions/3.9.7/envs/ecad/lib/python3.9/site-packages (from jinja2->torch->torchnet) (2.1.3)\n",
      "Requirement already satisfied: jsonpointer>=1.9 in /Users/dirceusilva/.pyenv/versions/3.9.7/envs/ecad/lib/python3.9/site-packages (from jsonpatch->visdom->torchnet) (2.4)\n",
      "Requirement already satisfied: charset-normalizer<4,>=2 in /Users/dirceusilva/.pyenv/versions/3.9.7/envs/ecad/lib/python3.9/site-packages (from requests->visdom->torchnet) (3.2.0)\n",
      "Requirement already satisfied: idna<4,>=2.5 in /Users/dirceusilva/.pyenv/versions/3.9.7/envs/ecad/lib/python3.9/site-packages (from requests->visdom->torchnet) (3.4)\n",
      "Requirement already satisfied: urllib3<3,>=1.21.1 in /Users/dirceusilva/.pyenv/versions/3.9.7/envs/ecad/lib/python3.9/site-packages (from requests->visdom->torchnet) (1.26.16)\n",
      "Requirement already satisfied: certifi>=2017.4.17 in /Users/dirceusilva/.pyenv/versions/3.9.7/envs/ecad/lib/python3.9/site-packages (from requests->visdom->torchnet) (2023.7.22)\n",
      "Requirement already satisfied: mpmath>=0.19 in /Users/dirceusilva/.pyenv/versions/3.9.7/envs/ecad/lib/python3.9/site-packages (from sympy->torch->torchnet) (1.3.0)\n",
      "Using cached jsonpatch-1.33-py2.py3-none-any.whl (12 kB)\n",
      "Building wheels for collected packages: torchnet, visdom\n",
      "  Building wheel for torchnet (setup.py) ... \u001b[?25ldone\n",
      "\u001b[?25h  Created wheel for torchnet: filename=torchnet-0.0.4-py3-none-any.whl size=29742 sha256=818c9ad4974faa08490ad08ecb35a97c02a5eb05aad1ed6ecf1129e82ce13f19\n",
      "  Stored in directory: /Users/dirceusilva/Library/Caches/pip/wheels/65/d2/1e/0c2519d1837089fe374a60ce10e120c555b9d77110a49f027f\n",
      "  Building wheel for visdom (setup.py) ... \u001b[?25ldone\n",
      "\u001b[?25h  Created wheel for visdom: filename=visdom-0.2.4-py3-none-any.whl size=1408218 sha256=100bad8217fa71897b293023bcffef6bdf46b3c881ad9b7aa8ed8dc657208ca1\n",
      "  Stored in directory: /Users/dirceusilva/Library/Caches/pip/wheels/58/9e/14/30f7cc4dafdd4d602fb00ca33c6edd1424fc0f5df10a02e060\n",
      "Successfully built torchnet visdom\n",
      "Installing collected packages: jsonpatch, visdom, torchnet\n",
      "Successfully installed jsonpatch-1.33 torchnet-0.0.4 visdom-0.2.4\n"
     ]
    }
   ],
   "source": [
    "!pip install torchnet"
   ]
  },
  {
   "cell_type": "code",
   "execution_count": 3,
   "metadata": {},
   "outputs": [],
   "source": [
    "import os\n",
    "import torch\n",
    "from cqt_loader import *\n",
    "from torch.utils.data import DataLoader\n",
    "import torchvision.transforms as transforms\n",
    "import models\n",
    "from config import opt\n",
    "from torchnet import meter\n",
    "from tqdm import tqdm\n",
    "import numpy as np\n",
    "import time\n",
    "import torch.nn.functional as F\n",
    "import torch\n",
    "import torch.nn as nn\n",
    "from utility import *"
   ]
  },
  {
   "cell_type": "code",
   "execution_count": 5,
   "metadata": {},
   "outputs": [
    {
     "name": "stdout",
     "output_type": "stream",
     "text": [
      "CQTNet(\n",
      "  (features): Sequential(\n",
      "    (conv0): Conv2d(1, 32, kernel_size=(12, 3), stride=(1, 1), padding=(6, 0), bias=False)\n",
      "    (norm0): BatchNorm2d(32, eps=1e-05, momentum=0.1, affine=True, track_running_stats=True)\n",
      "    (relu0): ReLU(inplace=True)\n",
      "    (conv1): Conv2d(32, 64, kernel_size=(13, 3), stride=(1, 1), dilation=(1, 2), bias=False)\n",
      "    (norm1): BatchNorm2d(64, eps=1e-05, momentum=0.1, affine=True, track_running_stats=True)\n",
      "    (relu1): ReLU(inplace=True)\n",
      "    (pool1): MaxPool2d(kernel_size=(1, 2), stride=(1, 2), padding=(0, 1), dilation=1, ceil_mode=False)\n",
      "    (conv2): Conv2d(64, 64, kernel_size=(13, 3), stride=(1, 1), bias=False)\n",
      "    (norm2): BatchNorm2d(64, eps=1e-05, momentum=0.1, affine=True, track_running_stats=True)\n",
      "    (relu2): ReLU(inplace=True)\n",
      "    (conv3): Conv2d(64, 64, kernel_size=(3, 3), stride=(1, 1), dilation=(1, 2), bias=False)\n",
      "    (norm3): BatchNorm2d(64, eps=1e-05, momentum=0.1, affine=True, track_running_stats=True)\n",
      "    (relu3): ReLU(inplace=True)\n",
      "    (pool3): MaxPool2d(kernel_size=(1, 2), stride=(1, 2), padding=(0, 1), dilation=1, ceil_mode=False)\n",
      "    (conv4): Conv2d(64, 128, kernel_size=(3, 3), stride=(1, 1), bias=False)\n",
      "    (norm4): BatchNorm2d(128, eps=1e-05, momentum=0.1, affine=True, track_running_stats=True)\n",
      "    (relu4): ReLU(inplace=True)\n",
      "    (conv5): Conv2d(128, 128, kernel_size=(3, 3), stride=(1, 1), dilation=(1, 2), bias=False)\n",
      "    (norm5): BatchNorm2d(128, eps=1e-05, momentum=0.1, affine=True, track_running_stats=True)\n",
      "    (relu5): ReLU(inplace=True)\n",
      "    (pool5): MaxPool2d(kernel_size=(1, 2), stride=(1, 2), padding=(0, 1), dilation=1, ceil_mode=False)\n",
      "    (conv6): Conv2d(128, 256, kernel_size=(3, 3), stride=(1, 1), bias=False)\n",
      "    (norm6): BatchNorm2d(256, eps=1e-05, momentum=0.1, affine=True, track_running_stats=True)\n",
      "    (relu6): ReLU(inplace=True)\n",
      "    (conv7): Conv2d(256, 256, kernel_size=(3, 3), stride=(1, 1), dilation=(1, 2), bias=False)\n",
      "    (norm7): BatchNorm2d(256, eps=1e-05, momentum=0.1, affine=True, track_running_stats=True)\n",
      "    (relu7): ReLU(inplace=True)\n",
      "    (pool7): MaxPool2d(kernel_size=(1, 2), stride=(1, 2), padding=(0, 1), dilation=1, ceil_mode=False)\n",
      "    (conv8): Conv2d(256, 512, kernel_size=(3, 3), stride=(1, 1), bias=False)\n",
      "    (norm8): BatchNorm2d(512, eps=1e-05, momentum=0.1, affine=True, track_running_stats=True)\n",
      "    (relu8): ReLU(inplace=True)\n",
      "    (conv9): Conv2d(512, 512, kernel_size=(3, 3), stride=(1, 1), dilation=(1, 2), bias=False)\n",
      "    (norm9): BatchNorm2d(512, eps=1e-05, momentum=0.1, affine=True, track_running_stats=True)\n",
      "    (relu9): ReLU(inplace=True)\n",
      "  )\n",
      "  (pool): AdaptiveMaxPool2d(output_size=(1, 1))\n",
      "  (fc0): Linear(in_features=512, out_features=300, bias=True)\n",
      "  (fc1): Linear(in_features=300, out_features=10000, bias=True)\n",
      ")\n"
     ]
    }
   ],
   "source": [
    "\n",
    "import models.CQTNet\n",
    "\n",
    "\n",
    "modelname = 'CQTNet'\n",
    "load_latest = True\n",
    "load_model_path = 'check_points/CQTNet.pth'\n",
    "#opt._parse(kwargs)\n",
    "\n",
    "model = models.CQTNet.CQTNet()\n",
    "print(model)"
   ]
  },
  {
   "cell_type": "code",
   "execution_count": 6,
   "metadata": {},
   "outputs": [
    {
     "name": "stdout",
     "output_type": "stream",
     "text": [
      "Sequential(\n",
      "  (0): Sequential(\n",
      "    (conv0): Conv2d(1, 32, kernel_size=(12, 3), stride=(1, 1), padding=(6, 0), bias=False)\n",
      "    (norm0): BatchNorm2d(32, eps=1e-05, momentum=0.1, affine=True, track_running_stats=True)\n",
      "    (relu0): ReLU(inplace=True)\n",
      "    (conv1): Conv2d(32, 64, kernel_size=(13, 3), stride=(1, 1), dilation=(1, 2), bias=False)\n",
      "    (norm1): BatchNorm2d(64, eps=1e-05, momentum=0.1, affine=True, track_running_stats=True)\n",
      "    (relu1): ReLU(inplace=True)\n",
      "    (pool1): MaxPool2d(kernel_size=(1, 2), stride=(1, 2), padding=(0, 1), dilation=1, ceil_mode=False)\n",
      "    (conv2): Conv2d(64, 64, kernel_size=(13, 3), stride=(1, 1), bias=False)\n",
      "    (norm2): BatchNorm2d(64, eps=1e-05, momentum=0.1, affine=True, track_running_stats=True)\n",
      "    (relu2): ReLU(inplace=True)\n",
      "    (conv3): Conv2d(64, 64, kernel_size=(3, 3), stride=(1, 1), dilation=(1, 2), bias=False)\n",
      "    (norm3): BatchNorm2d(64, eps=1e-05, momentum=0.1, affine=True, track_running_stats=True)\n",
      "    (relu3): ReLU(inplace=True)\n",
      "    (pool3): MaxPool2d(kernel_size=(1, 2), stride=(1, 2), padding=(0, 1), dilation=1, ceil_mode=False)\n",
      "    (conv4): Conv2d(64, 128, kernel_size=(3, 3), stride=(1, 1), bias=False)\n",
      "    (norm4): BatchNorm2d(128, eps=1e-05, momentum=0.1, affine=True, track_running_stats=True)\n",
      "    (relu4): ReLU(inplace=True)\n",
      "    (conv5): Conv2d(128, 128, kernel_size=(3, 3), stride=(1, 1), dilation=(1, 2), bias=False)\n",
      "    (norm5): BatchNorm2d(128, eps=1e-05, momentum=0.1, affine=True, track_running_stats=True)\n",
      "    (relu5): ReLU(inplace=True)\n",
      "    (pool5): MaxPool2d(kernel_size=(1, 2), stride=(1, 2), padding=(0, 1), dilation=1, ceil_mode=False)\n",
      "    (conv6): Conv2d(128, 256, kernel_size=(3, 3), stride=(1, 1), bias=False)\n",
      "    (norm6): BatchNorm2d(256, eps=1e-05, momentum=0.1, affine=True, track_running_stats=True)\n",
      "    (relu6): ReLU(inplace=True)\n",
      "    (conv7): Conv2d(256, 256, kernel_size=(3, 3), stride=(1, 1), dilation=(1, 2), bias=False)\n",
      "    (norm7): BatchNorm2d(256, eps=1e-05, momentum=0.1, affine=True, track_running_stats=True)\n",
      "    (relu7): ReLU(inplace=True)\n",
      "    (pool7): MaxPool2d(kernel_size=(1, 2), stride=(1, 2), padding=(0, 1), dilation=1, ceil_mode=False)\n",
      "    (conv8): Conv2d(256, 512, kernel_size=(3, 3), stride=(1, 1), bias=False)\n",
      "    (norm8): BatchNorm2d(512, eps=1e-05, momentum=0.1, affine=True, track_running_stats=True)\n",
      "    (relu8): ReLU(inplace=True)\n",
      "    (conv9): Conv2d(512, 512, kernel_size=(3, 3), stride=(1, 1), dilation=(1, 2), bias=False)\n",
      "    (norm9): BatchNorm2d(512, eps=1e-05, momentum=0.1, affine=True, track_running_stats=True)\n",
      "    (relu9): ReLU(inplace=True)\n",
      "  )\n",
      "  (1): AdaptiveMaxPool2d(output_size=(1, 1))\n",
      "  (2): Linear(in_features=512, out_features=300, bias=True)\n",
      ")\n"
     ]
    }
   ],
   "source": [
    "features = nn.Sequential(*list(model.children())[:-1])\n",
    "print(features)"
   ]
  },
  {
   "cell_type": "code",
   "execution_count": null,
   "metadata": {},
   "outputs": [],
   "source": [
    "in_features = vgg16._modules['classifier'][-1].in_features\n",
    "out_features = 80\n",
    "vgg16._modules['classifier'][-1] = nn.Linear(in_features, out_features, bias=True)\n",
    "print(vgg16._modules['classifier'])"
   ]
  },
  {
   "cell_type": "code",
   "execution_count": null,
   "metadata": {},
   "outputs": [],
   "source": [
    "#if opt.load_latest is True:\n",
    "#    model.load_latest(opt.notes)\n",
    "elif opt.load_model_path:\n",
    "    model.load(opt.load_model_path)\n",
    "model.to(opt.device)"
   ]
  }
 ],
 "metadata": {
  "kernelspec": {
   "display_name": "ecad",
   "language": "python",
   "name": "python3"
  },
  "language_info": {
   "codemirror_mode": {
    "name": "ipython",
    "version": 3
   },
   "file_extension": ".py",
   "mimetype": "text/x-python",
   "name": "python",
   "nbconvert_exporter": "python",
   "pygments_lexer": "ipython3",
   "version": "3.9.7"
  }
 },
 "nbformat": 4,
 "nbformat_minor": 2
}
