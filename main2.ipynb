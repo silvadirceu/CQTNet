{
 "cells": [
  {
   "cell_type": "code",
   "execution_count": 1,
   "metadata": {},
   "outputs": [],
   "source": [
    "import os\n",
    "import torch\n",
    "from torch.utils.data import DataLoader\n",
    "import torchvision.transforms as transforms\n",
    "from torchnet import meter\n",
    "from tqdm import tqdm\n",
    "import numpy as np\n",
    "import time\n",
    "import torch.nn.functional as F\n",
    "import torch.nn as nn\n"
   ]
  },
  {
   "cell_type": "code",
   "execution_count": 2,
   "metadata": {},
   "outputs": [],
   "source": [
    "from cqt_loader import CQT\n",
    "from models import CQTNet \n",
    "from config import DefaultConfig\n",
    "from utility import calc_MAP"
   ]
  },
  {
   "cell_type": "markdown",
   "metadata": {},
   "source": [
    "# Set Parameters"
   ]
  },
  {
   "cell_type": "code",
   "execution_count": 3,
   "metadata": {},
   "outputs": [
    {
     "name": "stdout",
     "output_type": "stream",
     "text": [
      "torch.cuda.is_available() False\n",
      "use_gpu True\n",
      "cpu\n"
     ]
    },
    {
     "name": "stderr",
     "output_type": "stream",
     "text": [
      "/Users/dirceusilva/.pyenv/versions/3.9.19/envs/audio/lib/python3.9/site-packages/torch/__init__.py:696: UserWarning: torch.set_default_tensor_type() is deprecated as of PyTorch 2.1, please use torch.set_default_dtype() and torch.set_default_device() as alternatives. (Triggered internally at /Users/runner/work/pytorch/pytorch/pytorch/torch/csrc/tensor/python_tensor.cpp:453.)\n",
      "  _C._set_default_tensor_type(t)\n"
     ]
    }
   ],
   "source": [
    "modelname = 'CQTNet'\n",
    "load_latest = True\n",
    "load_model_path = 'check_points/CQTNet.pth'\n",
    "model_save_path = 'finetuning'\n",
    "\n",
    "opt = DefaultConfig(load_model_path=load_model_path, notes=model_save_path)"
   ]
  },
  {
   "cell_type": "markdown",
   "metadata": {},
   "source": [
    "# step 1: Build DataLoader"
   ]
  },
  {
   "cell_type": "code",
   "execution_count": 6,
   "metadata": {},
   "outputs": [
    {
     "name": "stdout",
     "output_type": "stream",
     "text": [
      "train -- set_ids: 6191 -- tracks_ids: 40713\n",
      "val -- set_ids: 2770 -- tracks_ids: 8310\n",
      "test -- set_ids: 4394 -- tracks_ids: 8788\n"
     ]
    }
   ],
   "source": [
    "train_data = CQT('train', out_length=300)\n",
    "val_data = CQT('val', out_length=None)\n",
    "test_data = CQT('test', out_length=None)\n",
    "\n",
    "train_dataloader = DataLoader(train_data, opt.batch_size, shuffle=True,num_workers=opt.num_workers)\n",
    "val_dataloader = DataLoader(val_data, 1, shuffle=False, num_workers=1)\n",
    "test_dataloader = DataLoader(test_data, 1, shuffle=False, num_workers=1)"
   ]
  },
  {
   "cell_type": "markdown",
   "metadata": {},
   "source": [
    "# step 2: configure model"
   ]
  },
  {
   "cell_type": "code",
   "execution_count": 5,
   "metadata": {},
   "outputs": [
    {
     "name": "stdout",
     "output_type": "stream",
     "text": [
      "CQTNet(\n",
      "  (features): Sequential(\n",
      "    (conv0): Conv2d(1, 32, kernel_size=(12, 3), stride=(1, 1), padding=(6, 0), bias=False)\n",
      "    (norm0): BatchNorm2d(32, eps=1e-05, momentum=0.1, affine=True, track_running_stats=True)\n",
      "    (relu0): ReLU(inplace=True)\n",
      "    (conv1): Conv2d(32, 64, kernel_size=(13, 3), stride=(1, 1), dilation=(1, 2), bias=False)\n",
      "    (norm1): BatchNorm2d(64, eps=1e-05, momentum=0.1, affine=True, track_running_stats=True)\n",
      "    (relu1): ReLU(inplace=True)\n",
      "    (pool1): MaxPool2d(kernel_size=(1, 2), stride=(1, 2), padding=(0, 1), dilation=1, ceil_mode=False)\n",
      "    (conv2): Conv2d(64, 64, kernel_size=(13, 3), stride=(1, 1), bias=False)\n",
      "    (norm2): BatchNorm2d(64, eps=1e-05, momentum=0.1, affine=True, track_running_stats=True)\n",
      "    (relu2): ReLU(inplace=True)\n",
      "    (conv3): Conv2d(64, 64, kernel_size=(3, 3), stride=(1, 1), dilation=(1, 2), bias=False)\n",
      "    (norm3): BatchNorm2d(64, eps=1e-05, momentum=0.1, affine=True, track_running_stats=True)\n",
      "    (relu3): ReLU(inplace=True)\n",
      "    (pool3): MaxPool2d(kernel_size=(1, 2), stride=(1, 2), padding=(0, 1), dilation=1, ceil_mode=False)\n",
      "    (conv4): Conv2d(64, 128, kernel_size=(3, 3), stride=(1, 1), bias=False)\n",
      "    (norm4): BatchNorm2d(128, eps=1e-05, momentum=0.1, affine=True, track_running_stats=True)\n",
      "    (relu4): ReLU(inplace=True)\n",
      "    (conv5): Conv2d(128, 128, kernel_size=(3, 3), stride=(1, 1), dilation=(1, 2), bias=False)\n",
      "    (norm5): BatchNorm2d(128, eps=1e-05, momentum=0.1, affine=True, track_running_stats=True)\n",
      "    (relu5): ReLU(inplace=True)\n",
      "    (pool5): MaxPool2d(kernel_size=(1, 2), stride=(1, 2), padding=(0, 1), dilation=1, ceil_mode=False)\n",
      "    (conv6): Conv2d(128, 256, kernel_size=(3, 3), stride=(1, 1), bias=False)\n",
      "    (norm6): BatchNorm2d(256, eps=1e-05, momentum=0.1, affine=True, track_running_stats=True)\n",
      "    (relu6): ReLU(inplace=True)\n",
      "    (conv7): Conv2d(256, 256, kernel_size=(3, 3), stride=(1, 1), dilation=(1, 2), bias=False)\n",
      "    (norm7): BatchNorm2d(256, eps=1e-05, momentum=0.1, affine=True, track_running_stats=True)\n",
      "    (relu7): ReLU(inplace=True)\n",
      "    (pool7): MaxPool2d(kernel_size=(1, 2), stride=(1, 2), padding=(0, 1), dilation=1, ceil_mode=False)\n",
      "    (conv8): Conv2d(256, 512, kernel_size=(3, 3), stride=(1, 1), bias=False)\n",
      "    (norm8): BatchNorm2d(512, eps=1e-05, momentum=0.1, affine=True, track_running_stats=True)\n",
      "    (relu8): ReLU(inplace=True)\n",
      "    (conv9): Conv2d(512, 512, kernel_size=(3, 3), stride=(1, 1), dilation=(1, 2), bias=False)\n",
      "    (norm9): BatchNorm2d(512, eps=1e-05, momentum=0.1, affine=True, track_running_stats=True)\n",
      "    (relu9): ReLU(inplace=True)\n",
      "  )\n",
      "  (pool): AdaptiveMaxPool2d(output_size=(1, 1))\n",
      "  (fc0): Linear(in_features=512, out_features=300, bias=True)\n",
      "  (fc1): Linear(in_features=300, out_features=10000, bias=True)\n",
      ")\n"
     ]
    }
   ],
   "source": [
    "\n",
    "#opt._parse(kwargs)\n",
    "\n",
    "model = CQTNet.CQTNet()\n",
    "model.load_state_dict(torch.load(load_model_path, map_location=opt.device))\n",
    "\n",
    "print(model)"
   ]
  },
  {
   "cell_type": "code",
   "execution_count": 6,
   "metadata": {},
   "outputs": [
    {
     "data": {
      "text/plain": [
       "odict_keys(['features', 'pool', 'fc0', 'fc1'])"
      ]
     },
     "execution_count": 6,
     "metadata": {},
     "output_type": "execute_result"
    }
   ],
   "source": [
    "model._modules.keys()"
   ]
  },
  {
   "cell_type": "code",
   "execution_count": 7,
   "metadata": {},
   "outputs": [],
   "source": [
    "for param in model.parameters():\n",
    "    param.requires_grad = False"
   ]
  },
  {
   "cell_type": "markdown",
   "metadata": {},
   "source": [
    "### Change Model"
   ]
  },
  {
   "cell_type": "code",
   "execution_count": 8,
   "metadata": {},
   "outputs": [],
   "source": [
    "model.fc1 = nn.Linear(300, train_data.get_setids_len())"
   ]
  },
  {
   "cell_type": "code",
   "execution_count": 9,
   "metadata": {},
   "outputs": [],
   "source": [
    "for param in model.fc1.parameters():\n",
    "    param.requires_grad = True"
   ]
  },
  {
   "cell_type": "code",
   "execution_count": 9,
   "metadata": {},
   "outputs": [
    {
     "name": "stdout",
     "output_type": "stream",
     "text": [
      "features.conv0.weight False\n",
      "features.norm0.weight False\n",
      "features.norm0.bias False\n",
      "features.conv1.weight False\n",
      "features.norm1.weight False\n",
      "features.norm1.bias False\n",
      "features.conv2.weight False\n",
      "features.norm2.weight False\n",
      "features.norm2.bias False\n",
      "features.conv3.weight False\n",
      "features.norm3.weight False\n",
      "features.norm3.bias False\n",
      "features.conv4.weight False\n",
      "features.norm4.weight False\n",
      "features.norm4.bias False\n",
      "features.conv5.weight False\n",
      "features.norm5.weight False\n",
      "features.norm5.bias False\n",
      "features.conv6.weight False\n",
      "features.norm6.weight False\n",
      "features.norm6.bias False\n",
      "features.conv7.weight False\n",
      "features.norm7.weight False\n",
      "features.norm7.bias False\n",
      "features.conv8.weight False\n",
      "features.norm8.weight False\n",
      "features.norm8.bias False\n",
      "features.conv9.weight False\n",
      "features.norm9.weight False\n",
      "features.norm9.bias False\n",
      "fc0.weight False\n",
      "fc0.bias False\n",
      "fc1.weight True\n",
      "fc1.bias True\n"
     ]
    }
   ],
   "source": [
    "for name, param in model.named_parameters():\n",
    "    print(name, param.requires_grad)"
   ]
  },
  {
   "cell_type": "markdown",
   "metadata": {},
   "source": [
    "# To device"
   ]
  },
  {
   "cell_type": "code",
   "execution_count": 10,
   "metadata": {},
   "outputs": [
    {
     "name": "stdout",
     "output_type": "stream",
     "text": [
      "CQTNet(\n",
      "  (features): Sequential(\n",
      "    (conv0): Conv2d(1, 32, kernel_size=(12, 3), stride=(1, 1), padding=(6, 0), bias=False)\n",
      "    (norm0): BatchNorm2d(32, eps=1e-05, momentum=0.1, affine=True, track_running_stats=True)\n",
      "    (relu0): ReLU(inplace=True)\n",
      "    (conv1): Conv2d(32, 64, kernel_size=(13, 3), stride=(1, 1), dilation=(1, 2), bias=False)\n",
      "    (norm1): BatchNorm2d(64, eps=1e-05, momentum=0.1, affine=True, track_running_stats=True)\n",
      "    (relu1): ReLU(inplace=True)\n",
      "    (pool1): MaxPool2d(kernel_size=(1, 2), stride=(1, 2), padding=(0, 1), dilation=1, ceil_mode=False)\n",
      "    (conv2): Conv2d(64, 64, kernel_size=(13, 3), stride=(1, 1), bias=False)\n",
      "    (norm2): BatchNorm2d(64, eps=1e-05, momentum=0.1, affine=True, track_running_stats=True)\n",
      "    (relu2): ReLU(inplace=True)\n",
      "    (conv3): Conv2d(64, 64, kernel_size=(3, 3), stride=(1, 1), dilation=(1, 2), bias=False)\n",
      "    (norm3): BatchNorm2d(64, eps=1e-05, momentum=0.1, affine=True, track_running_stats=True)\n",
      "    (relu3): ReLU(inplace=True)\n",
      "    (pool3): MaxPool2d(kernel_size=(1, 2), stride=(1, 2), padding=(0, 1), dilation=1, ceil_mode=False)\n",
      "    (conv4): Conv2d(64, 128, kernel_size=(3, 3), stride=(1, 1), bias=False)\n",
      "    (norm4): BatchNorm2d(128, eps=1e-05, momentum=0.1, affine=True, track_running_stats=True)\n",
      "    (relu4): ReLU(inplace=True)\n",
      "    (conv5): Conv2d(128, 128, kernel_size=(3, 3), stride=(1, 1), dilation=(1, 2), bias=False)\n",
      "    (norm5): BatchNorm2d(128, eps=1e-05, momentum=0.1, affine=True, track_running_stats=True)\n",
      "    (relu5): ReLU(inplace=True)\n",
      "    (pool5): MaxPool2d(kernel_size=(1, 2), stride=(1, 2), padding=(0, 1), dilation=1, ceil_mode=False)\n",
      "    (conv6): Conv2d(128, 256, kernel_size=(3, 3), stride=(1, 1), bias=False)\n",
      "    (norm6): BatchNorm2d(256, eps=1e-05, momentum=0.1, affine=True, track_running_stats=True)\n",
      "    (relu6): ReLU(inplace=True)\n",
      "    (conv7): Conv2d(256, 256, kernel_size=(3, 3), stride=(1, 1), dilation=(1, 2), bias=False)\n",
      "    (norm7): BatchNorm2d(256, eps=1e-05, momentum=0.1, affine=True, track_running_stats=True)\n",
      "    (relu7): ReLU(inplace=True)\n",
      "    (pool7): MaxPool2d(kernel_size=(1, 2), stride=(1, 2), padding=(0, 1), dilation=1, ceil_mode=False)\n",
      "    (conv8): Conv2d(256, 512, kernel_size=(3, 3), stride=(1, 1), bias=False)\n",
      "    (norm8): BatchNorm2d(512, eps=1e-05, momentum=0.1, affine=True, track_running_stats=True)\n",
      "    (relu8): ReLU(inplace=True)\n",
      "    (conv9): Conv2d(512, 512, kernel_size=(3, 3), stride=(1, 1), dilation=(1, 2), bias=False)\n",
      "    (norm9): BatchNorm2d(512, eps=1e-05, momentum=0.1, affine=True, track_running_stats=True)\n",
      "    (relu9): ReLU(inplace=True)\n",
      "  )\n",
      "  (pool): AdaptiveMaxPool2d(output_size=(1, 1))\n",
      "  (fc0): Linear(in_features=512, out_features=300, bias=True)\n",
      "  (fc1): Linear(in_features=300, out_features=6191, bias=True)\n",
      ")\n"
     ]
    }
   ],
   "source": [
    "model.to(opt.device)\n",
    "print(model)"
   ]
  },
  {
   "cell_type": "markdown",
   "metadata": {},
   "source": [
    "#  step 3: criterion and optimizer"
   ]
  },
  {
   "cell_type": "code",
   "execution_count": 11,
   "metadata": {},
   "outputs": [
    {
     "ename": "AttributeError",
     "evalue": "'CQTNet' object has no attribute 'module'",
     "output_type": "error",
     "traceback": [
      "\u001b[0;31m---------------------------------------------------------------------------\u001b[0m",
      "\u001b[0;31mAttributeError\u001b[0m                            Traceback (most recent call last)",
      "Cell \u001b[0;32mIn[11], line 4\u001b[0m\n\u001b[1;32m      2\u001b[0m lr \u001b[38;5;241m=\u001b[39m opt\u001b[38;5;241m.\u001b[39mlr\n\u001b[1;32m      3\u001b[0m \u001b[38;5;28;01mif\u001b[39;00m opt\u001b[38;5;241m.\u001b[39mparallel \u001b[38;5;129;01mis\u001b[39;00m \u001b[38;5;28;01mTrue\u001b[39;00m:\n\u001b[0;32m----> 4\u001b[0m     optimizer \u001b[38;5;241m=\u001b[39m torch\u001b[38;5;241m.\u001b[39moptim\u001b[38;5;241m.\u001b[39mAdam(\u001b[43mmodel\u001b[49m\u001b[38;5;241;43m.\u001b[39;49m\u001b[43mmodule\u001b[49m\u001b[38;5;241m.\u001b[39mparameters(), lr\u001b[38;5;241m=\u001b[39mlr, weight_decay\u001b[38;5;241m=\u001b[39mopt\u001b[38;5;241m.\u001b[39mweight_decay)\n\u001b[1;32m      5\u001b[0m \u001b[38;5;28;01melse\u001b[39;00m:\n\u001b[1;32m      6\u001b[0m     optimizer \u001b[38;5;241m=\u001b[39m torch\u001b[38;5;241m.\u001b[39moptim\u001b[38;5;241m.\u001b[39mAdam(model\u001b[38;5;241m.\u001b[39mparameters(), lr\u001b[38;5;241m=\u001b[39mlr,weight_decay\u001b[38;5;241m=\u001b[39mopt\u001b[38;5;241m.\u001b[39mweight_decay)\n",
      "File \u001b[0;32m~/.pyenv/versions/3.9.19/envs/audio/lib/python3.9/site-packages/torch/nn/modules/module.py:1688\u001b[0m, in \u001b[0;36mModule.__getattr__\u001b[0;34m(self, name)\u001b[0m\n\u001b[1;32m   1686\u001b[0m     \u001b[38;5;28;01mif\u001b[39;00m name \u001b[38;5;129;01min\u001b[39;00m modules:\n\u001b[1;32m   1687\u001b[0m         \u001b[38;5;28;01mreturn\u001b[39;00m modules[name]\n\u001b[0;32m-> 1688\u001b[0m \u001b[38;5;28;01mraise\u001b[39;00m \u001b[38;5;167;01mAttributeError\u001b[39;00m(\u001b[38;5;124mf\u001b[39m\u001b[38;5;124m\"\u001b[39m\u001b[38;5;124m'\u001b[39m\u001b[38;5;132;01m{\u001b[39;00m\u001b[38;5;28mtype\u001b[39m(\u001b[38;5;28mself\u001b[39m)\u001b[38;5;241m.\u001b[39m\u001b[38;5;18m__name__\u001b[39m\u001b[38;5;132;01m}\u001b[39;00m\u001b[38;5;124m'\u001b[39m\u001b[38;5;124m object has no attribute \u001b[39m\u001b[38;5;124m'\u001b[39m\u001b[38;5;132;01m{\u001b[39;00mname\u001b[38;5;132;01m}\u001b[39;00m\u001b[38;5;124m'\u001b[39m\u001b[38;5;124m\"\u001b[39m)\n",
      "\u001b[0;31mAttributeError\u001b[0m: 'CQTNet' object has no attribute 'module'"
     ]
    }
   ],
   "source": [
    "criterion = torch.nn.CrossEntropyLoss()\n",
    "lr = opt.lr\n",
    "if opt.parallel is True:\n",
    "    optimizer = torch.optim.Adam(model.module.parameters(), lr=lr, weight_decay=opt.weight_decay)\n",
    "else:\n",
    "    optimizer = torch.optim.Adam(model.parameters(), lr=lr, weight_decay=opt.weight_decay)\n",
    "    \n",
    "scheduler = torch.optim.lr_scheduler.ReduceLROnPlateau(\n",
    "    optimizer, mode='min', factor=opt.lr_decay, patience=2, verbose=True, min_lr=5e-6)"
   ]
  },
  {
   "cell_type": "markdown",
   "metadata": {},
   "source": [
    "# step 4: Train"
   ]
  },
  {
   "cell_type": "markdown",
   "metadata": {},
   "source": [
    "### Validation Function"
   ]
  },
  {
   "cell_type": "code",
   "execution_count": null,
   "metadata": {},
   "outputs": [],
   "source": [
    "@torch.no_grad()\n",
    "def val_slow(model, dataloader, epoch):\n",
    "    \n",
    "    model.eval()\n",
    "    total, correct = 0, 0\n",
    "    labels, features = None, None\n",
    "\n",
    "    for ii, (data, label) in enumerate(dataloader):\n",
    "        input_data = data.to(opt.device)\n",
    "        #print(input.shape)\n",
    "        score, feature = model(input_data)\n",
    "        feature = feature.data.cpu().numpy()\n",
    "        label = label.data.cpu().numpy()\n",
    "        if features is not None:\n",
    "            features = np.concatenate((features, feature), axis=0)\n",
    "            labels = np.concatenate((labels,label))\n",
    "        else:\n",
    "            features = feature\n",
    "            labels = label\n",
    "    features = norm(features)\n",
    "\n",
    "    dis2d = -np.matmul(features, features.T) # [-1,1] Because normalized, so mutmul is equal to ED\n",
    "    np.save('dis.npy',dis2d)\n",
    "    np.save('label.npy',labels)\n",
    "\n",
    "    MAP, top10, rank1 = calc_MAP(dis2d, labels)\n",
    "\n",
    "    print(epoch, MAP, top10, rank1 )\n",
    "    \n",
    "    model.train()\n",
    "    \n",
    "    return MAP"
   ]
  },
  {
   "cell_type": "markdown",
   "metadata": {},
   "source": [
    "### Training"
   ]
  },
  {
   "cell_type": "code",
   "execution_count": null,
   "metadata": {},
   "outputs": [],
   "source": [
    "best_MAP=0\n",
    "    \n",
    "val_slow(model, val_dataloader, -1)\n",
    "for epoch in range(opt.max_epoch):\n",
    "    running_loss = 0\n",
    "    num = 0\n",
    "    for data, label in tqdm(train_dataloader):\n",
    "        \n",
    "        # train model\n",
    "        input_data = data.requires_grad_()\n",
    "        input_data = input_data.to(opt.device)\n",
    "        \n",
    "        target = label.to(opt.device)\n",
    "\n",
    "        optimizer.zero_grad()\n",
    "        score, _ = model(input_data)\n",
    "        loss = criterion(score, target)\n",
    "        loss.backward()\n",
    "        optimizer.step()\n",
    "\n",
    "        running_loss += loss.item()\n",
    "        num += target.shape[0]\n",
    "        \n",
    "    running_loss /= num \n",
    "    \n",
    "    print(running_loss)\n",
    "    \n",
    "    if opt.parallel is True:\n",
    "        model.module.save(opt.notes)\n",
    "    else:\n",
    "        model.save(opt.notes)\n",
    "    \n",
    "    # update learning rate\n",
    "    scheduler.step(running_loss) \n",
    "    \n",
    "    # validate\n",
    "    MAP=0\n",
    "    MAP += val_slow(model, val_dataloader, epoch)\n",
    "            \n",
    "    if MAP>best_MAP:\n",
    "        best_MAP=MAP\n",
    "        print('*****************BEST*****************')\n",
    "    print('')\n",
    "    model.train()"
   ]
  },
  {
   "cell_type": "markdown",
   "metadata": {},
   "source": [
    "# step 5: Test"
   ]
  },
  {
   "cell_type": "code",
   "execution_count": null,
   "metadata": {},
   "outputs": [],
   "source": [
    "def test(**kwargs):\n",
    "    opt.batch_size=1\n",
    "    opt.num_workers=1\n",
    "    opt.model = 'CQTNet'\n",
    "    opt.load_latest = False\n",
    "    opt.load_model_path = 'check_points/CQTNet.pth'\n",
    "    opt._parse(kwargs)\n",
    "    \n",
    "    model = getattr(models, opt.model)() \n",
    "    #print(model)\n",
    "    if opt.load_latest is True:\n",
    "        model.load_latest(opt.notes)\n",
    "    elif opt.load_model_path:\n",
    "        model.load(opt.load_model_path)\n",
    "    model.to(opt.device)\n",
    "\n",
    "    val_data = CQT('val', out_length=None)\n",
    "    test_data = CQT('test', out_length=None)\n",
    "    val_dataloader = DataLoader(val_data, 1, shuffle=False,num_workers=1)\n",
    "    test_dataloader = DataLoader(test_data, 1, shuffle=False,num_workers=1)\n",
    "    \n",
    "    val_slow(model, val_dataloader, 0)"
   ]
  }
 ],
 "metadata": {
  "kernelspec": {
   "display_name": "ecad",
   "language": "python",
   "name": "python3"
  },
  "language_info": {
   "codemirror_mode": {
    "name": "ipython",
    "version": 3
   },
   "file_extension": ".py",
   "mimetype": "text/x-python",
   "name": "python",
   "nbconvert_exporter": "python",
   "pygments_lexer": "ipython3",
   "version": "3.9.19"
  }
 },
 "nbformat": 4,
 "nbformat_minor": 2
}
