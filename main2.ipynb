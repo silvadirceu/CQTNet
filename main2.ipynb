{
 "cells": [
  {
   "cell_type": "code",
   "execution_count": 2,
   "metadata": {},
   "outputs": [],
   "source": [
    "import os\n",
    "import torch\n",
    "from cqt_loader import *\n",
    "from torch.utils.data import DataLoader\n",
    "import torchvision.transforms as transforms\n",
    "import models\n",
    "from config import opt\n",
    "from torchnet import meter\n",
    "from tqdm import tqdm\n",
    "import numpy as np\n",
    "import time\n",
    "import torch.nn.functional as F\n",
    "import torch\n",
    "import torch.nn as nn\n",
    "from utility import *"
   ]
  },
  {
   "cell_type": "code",
   "execution_count": 11,
   "metadata": {},
   "outputs": [],
   "source": [
    "def select_device(use_gpu=False, gpu_device=\"cuda:0\"):\n",
    "    #verificar versao de gpu\n",
    "    print('torch.cuda.is_available()', torch.cuda.is_available())\n",
    "    print('use_gpu', use_gpu)\n",
    "    if torch.cuda.is_available() and use_gpu:\n",
    "        device = gpu_device\n",
    "        torch.set_default_tensor_type('torch.cuda.FloatTensor')\n",
    "    else:\n",
    "        device = \"cpu\"\n",
    "        torch.set_default_tensor_type('torch.FloatTensor')\n",
    "        \n",
    "    print(torch.device(device))\n",
    "    return torch.device(device)"
   ]
  },
  {
   "cell_type": "code",
   "execution_count": 12,
   "metadata": {},
   "outputs": [
    {
     "name": "stdout",
     "output_type": "stream",
     "text": [
      "torch.cuda.is_available() False\n",
      "use_gpu False\n",
      "cpu\n"
     ]
    },
    {
     "name": "stderr",
     "output_type": "stream",
     "text": [
      "/Users/dirceusilva/.pyenv/versions/3.9.19/envs/audio/lib/python3.9/site-packages/torch/__init__.py:696: UserWarning: torch.set_default_tensor_type() is deprecated as of PyTorch 2.1, please use torch.set_default_dtype() and torch.set_default_device() as alternatives. (Triggered internally at /Users/runner/work/pytorch/pytorch/pytorch/torch/csrc/tensor/python_tensor.cpp:453.)\n",
      "  _C._set_default_tensor_type(t)\n"
     ]
    }
   ],
   "source": [
    "device = select_device(use_gpu=False, gpu_device=\"cuda:0\")"
   ]
  },
  {
   "cell_type": "code",
   "execution_count": 14,
   "metadata": {},
   "outputs": [
    {
     "name": "stdout",
     "output_type": "stream",
     "text": [
      "CQTNet(\n",
      "  (features): Sequential(\n",
      "    (conv0): Conv2d(1, 32, kernel_size=(12, 3), stride=(1, 1), padding=(6, 0), bias=False)\n",
      "    (norm0): BatchNorm2d(32, eps=1e-05, momentum=0.1, affine=True, track_running_stats=True)\n",
      "    (relu0): ReLU(inplace=True)\n",
      "    (conv1): Conv2d(32, 64, kernel_size=(13, 3), stride=(1, 1), dilation=(1, 2), bias=False)\n",
      "    (norm1): BatchNorm2d(64, eps=1e-05, momentum=0.1, affine=True, track_running_stats=True)\n",
      "    (relu1): ReLU(inplace=True)\n",
      "    (pool1): MaxPool2d(kernel_size=(1, 2), stride=(1, 2), padding=(0, 1), dilation=1, ceil_mode=False)\n",
      "    (conv2): Conv2d(64, 64, kernel_size=(13, 3), stride=(1, 1), bias=False)\n",
      "    (norm2): BatchNorm2d(64, eps=1e-05, momentum=0.1, affine=True, track_running_stats=True)\n",
      "    (relu2): ReLU(inplace=True)\n",
      "    (conv3): Conv2d(64, 64, kernel_size=(3, 3), stride=(1, 1), dilation=(1, 2), bias=False)\n",
      "    (norm3): BatchNorm2d(64, eps=1e-05, momentum=0.1, affine=True, track_running_stats=True)\n",
      "    (relu3): ReLU(inplace=True)\n",
      "    (pool3): MaxPool2d(kernel_size=(1, 2), stride=(1, 2), padding=(0, 1), dilation=1, ceil_mode=False)\n",
      "    (conv4): Conv2d(64, 128, kernel_size=(3, 3), stride=(1, 1), bias=False)\n",
      "    (norm4): BatchNorm2d(128, eps=1e-05, momentum=0.1, affine=True, track_running_stats=True)\n",
      "    (relu4): ReLU(inplace=True)\n",
      "    (conv5): Conv2d(128, 128, kernel_size=(3, 3), stride=(1, 1), dilation=(1, 2), bias=False)\n",
      "    (norm5): BatchNorm2d(128, eps=1e-05, momentum=0.1, affine=True, track_running_stats=True)\n",
      "    (relu5): ReLU(inplace=True)\n",
      "    (pool5): MaxPool2d(kernel_size=(1, 2), stride=(1, 2), padding=(0, 1), dilation=1, ceil_mode=False)\n",
      "    (conv6): Conv2d(128, 256, kernel_size=(3, 3), stride=(1, 1), bias=False)\n",
      "    (norm6): BatchNorm2d(256, eps=1e-05, momentum=0.1, affine=True, track_running_stats=True)\n",
      "    (relu6): ReLU(inplace=True)\n",
      "    (conv7): Conv2d(256, 256, kernel_size=(3, 3), stride=(1, 1), dilation=(1, 2), bias=False)\n",
      "    (norm7): BatchNorm2d(256, eps=1e-05, momentum=0.1, affine=True, track_running_stats=True)\n",
      "    (relu7): ReLU(inplace=True)\n",
      "    (pool7): MaxPool2d(kernel_size=(1, 2), stride=(1, 2), padding=(0, 1), dilation=1, ceil_mode=False)\n",
      "    (conv8): Conv2d(256, 512, kernel_size=(3, 3), stride=(1, 1), bias=False)\n",
      "    (norm8): BatchNorm2d(512, eps=1e-05, momentum=0.1, affine=True, track_running_stats=True)\n",
      "    (relu8): ReLU(inplace=True)\n",
      "    (conv9): Conv2d(512, 512, kernel_size=(3, 3), stride=(1, 1), dilation=(1, 2), bias=False)\n",
      "    (norm9): BatchNorm2d(512, eps=1e-05, momentum=0.1, affine=True, track_running_stats=True)\n",
      "    (relu9): ReLU(inplace=True)\n",
      "  )\n",
      "  (pool): AdaptiveMaxPool2d(output_size=(1, 1))\n",
      "  (fc0): Linear(in_features=512, out_features=300, bias=True)\n",
      "  (fc1): Linear(in_features=300, out_features=10000, bias=True)\n",
      ")\n"
     ]
    }
   ],
   "source": [
    "\n",
    "import models.CQTNet\n",
    "\n",
    "\n",
    "modelname = 'CQTNet'\n",
    "load_latest = True\n",
    "load_model_path = 'check_points/CQTNet.pth'\n",
    "#opt._parse(kwargs)\n",
    "\n",
    "model = models.CQTNet.CQTNet()\n",
    "\n",
    "model.load_state_dict(torch.load(load_model_path, map_location=device))\n",
    "\n",
    "print(model)"
   ]
  },
  {
   "cell_type": "code",
   "execution_count": 18,
   "metadata": {},
   "outputs": [
    {
     "data": {
      "text/plain": [
       "odict_keys(['features', 'pool', 'fc0', 'fc1'])"
      ]
     },
     "execution_count": 18,
     "metadata": {},
     "output_type": "execute_result"
    }
   ],
   "source": [
    "model._modules.keys()"
   ]
  },
  {
   "cell_type": "code",
   "execution_count": 15,
   "metadata": {},
   "outputs": [],
   "source": [
    "for param in model.parameters():\n",
    "    param.requires_grad = False"
   ]
  },
  {
   "cell_type": "code",
   "execution_count": 16,
   "metadata": {},
   "outputs": [],
   "source": [
    "for param in model.fc1.parameters():\n",
    "    param.requires_grad = True"
   ]
  },
  {
   "cell_type": "code",
   "execution_count": 17,
   "metadata": {},
   "outputs": [
    {
     "name": "stdout",
     "output_type": "stream",
     "text": [
      "features.conv0.weight False\n",
      "features.norm0.weight False\n",
      "features.norm0.bias False\n",
      "features.conv1.weight False\n",
      "features.norm1.weight False\n",
      "features.norm1.bias False\n",
      "features.conv2.weight False\n",
      "features.norm2.weight False\n",
      "features.norm2.bias False\n",
      "features.conv3.weight False\n",
      "features.norm3.weight False\n",
      "features.norm3.bias False\n",
      "features.conv4.weight False\n",
      "features.norm4.weight False\n",
      "features.norm4.bias False\n",
      "features.conv5.weight False\n",
      "features.norm5.weight False\n",
      "features.norm5.bias False\n",
      "features.conv6.weight False\n",
      "features.norm6.weight False\n",
      "features.norm6.bias False\n",
      "features.conv7.weight False\n",
      "features.norm7.weight False\n",
      "features.norm7.bias False\n",
      "features.conv8.weight False\n",
      "features.norm8.weight False\n",
      "features.norm8.bias False\n",
      "features.conv9.weight False\n",
      "features.norm9.weight False\n",
      "features.norm9.bias False\n",
      "fc0.weight False\n",
      "fc0.bias False\n",
      "fc1.weight True\n",
      "fc1.bias True\n"
     ]
    }
   ],
   "source": [
    "for name, param in model.named_parameters():\n",
    "    print(name, param.requires_grad)"
   ]
  },
  {
   "cell_type": "code",
   "execution_count": null,
   "metadata": {},
   "outputs": [],
   "source": []
  }
 ],
 "metadata": {
  "kernelspec": {
   "display_name": "ecad",
   "language": "python",
   "name": "python3"
  },
  "language_info": {
   "codemirror_mode": {
    "name": "ipython",
    "version": 3
   },
   "file_extension": ".py",
   "mimetype": "text/x-python",
   "name": "python",
   "nbconvert_exporter": "python",
   "pygments_lexer": "ipython3",
   "version": "3.9.19"
  }
 },
 "nbformat": 4,
 "nbformat_minor": 2
}
