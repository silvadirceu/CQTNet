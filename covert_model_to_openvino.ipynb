{
 "cells": [
  {
   "cell_type": "code",
   "execution_count": 2,
   "metadata": {},
   "outputs": [
    {
     "name": "stdout",
     "output_type": "stream",
     "text": [
      "Collecting openvino\n",
      "  Downloading openvino-2024.1.0-15008-cp39-cp39-macosx_10_12_x86_64.whl.metadata (8.8 kB)\n",
      "Requirement already satisfied: numpy<2.0.0,>=1.16.6 in /Users/dirceusilva/.pyenv/versions/3.9.19/envs/audio/lib/python3.9/site-packages (from openvino) (1.26.4)\n",
      "Collecting openvino-telemetry>=2023.2.1 (from openvino)\n",
      "  Downloading openvino_telemetry-2024.1.0-py3-none-any.whl.metadata (2.3 kB)\n",
      "Requirement already satisfied: packaging in /Users/dirceusilva/.pyenv/versions/3.9.19/envs/audio/lib/python3.9/site-packages (from openvino) (24.0)\n",
      "Downloading openvino-2024.1.0-15008-cp39-cp39-macosx_10_12_x86_64.whl (33.8 MB)\n",
      "\u001b[2K   \u001b[90m━━━━━━━━━━━━━━━━━━━━━━━━━━━━━━━━━━━━━━━━\u001b[0m \u001b[32m33.8/33.8 MB\u001b[0m \u001b[31m3.7 MB/s\u001b[0m eta \u001b[36m0:00:00\u001b[0m00:01\u001b[0m00:01\u001b[0m\n",
      "\u001b[?25hDownloading openvino_telemetry-2024.1.0-py3-none-any.whl (23 kB)\n",
      "Installing collected packages: openvino-telemetry, openvino\n",
      "Successfully installed openvino-2024.1.0 openvino-telemetry-2024.1.0\n"
     ]
    }
   ],
   "source": [
    "!pip install openvino"
   ]
  },
  {
   "cell_type": "code",
   "execution_count": 3,
   "metadata": {},
   "outputs": [],
   "source": [
    "import sys\n",
    "sys.path.append(\"..\")\n",
    "import torch\n",
    "from models.CQTNet import CQTNet, CQTNetSetlist\n",
    "import openvino as ov\n",
    "import os"
   ]
  },
  {
   "cell_type": "markdown",
   "metadata": {},
   "source": [
    "# Convert CQTNet"
   ]
  },
  {
   "cell_type": "code",
   "execution_count": 7,
   "metadata": {},
   "outputs": [],
   "source": [
    "CQTNET_MODEL_PATH = \"check_points/CQTNet.pth\"\n",
    "CQTNET_OV_MODEL_PATH = \"/home/lennon/workspace/CQTNet/check_points/openvino/CQTNET.xml\""
   ]
  },
  {
   "cell_type": "code",
   "execution_count": 8,
   "metadata": {},
   "outputs": [],
   "source": [
    "cqtnet_model = CQTNet()\n",
    "cqtnet_model.load_state_dict(torch.load(CQTNET_MODEL_PATH, map_location=torch.device('cpu')))\n",
    "cqtnet_model.eval()\n",
    "ov_model_cqtnet = ov.convert_model(cqtnet_model)"
   ]
  },
  {
   "cell_type": "code",
   "execution_count": 9,
   "metadata": {},
   "outputs": [
    {
     "name": "stdout",
     "output_type": "stream",
     "text": [
      "OpenVino model created\n"
     ]
    }
   ],
   "source": [
    "if not os.path.isfile(CQTNET_OV_MODEL_PATH):\n",
    "    ov.save_model(ov_model_cqtnet, CQTNET_OV_MODEL_PATH)\n",
    "    print(\"OpenVino model created\")\n",
    "else:\n",
    "    print(\"OpenVino model already exists\")"
   ]
  },
  {
   "cell_type": "markdown",
   "metadata": {},
   "source": [
    "# Convert CQTNet Finetuned"
   ]
  },
  {
   "cell_type": "code",
   "execution_count": 4,
   "metadata": {},
   "outputs": [],
   "source": [
    "CQTNET_MODEL_PATH = \"check_points/finetuning/latest.pth\"\n",
    "CQTNET_OV_MODEL_PATH = \"check_points/openvino/CQTNET_v2.xml\""
   ]
  },
  {
   "cell_type": "code",
   "execution_count": 5,
   "metadata": {},
   "outputs": [],
   "source": [
    "cqtnet_model = CQTNetSetlist() #CQTNet()\n",
    "cqtnet_model.load_state_dict(torch.load(CQTNET_MODEL_PATH, map_location=torch.device('cpu')))\n",
    "cqtnet_model.eval()\n",
    "ov_model_cqtnet = ov.convert_model(cqtnet_model)"
   ]
  },
  {
   "cell_type": "code",
   "execution_count": 6,
   "metadata": {},
   "outputs": [
    {
     "name": "stdout",
     "output_type": "stream",
     "text": [
      "OpenVino model created\n"
     ]
    }
   ],
   "source": [
    "if not os.path.isfile(CQTNET_OV_MODEL_PATH):\n",
    "    ov.save_model(ov_model_cqtnet, CQTNET_OV_MODEL_PATH)\n",
    "    print(\"OpenVino model created\")\n",
    "else:\n",
    "    print(\"OpenVino model already exists\")"
   ]
  }
 ],
 "metadata": {
  "kernelspec": {
   "display_name": "feature_extraction",
   "language": "python",
   "name": "python3"
  },
  "language_info": {
   "codemirror_mode": {
    "name": "ipython",
    "version": 3
   },
   "file_extension": ".py",
   "mimetype": "text/x-python",
   "name": "python",
   "nbconvert_exporter": "python",
   "pygments_lexer": "ipython3",
   "version": "3.9.19"
  }
 },
 "nbformat": 4,
 "nbformat_minor": 2
}
