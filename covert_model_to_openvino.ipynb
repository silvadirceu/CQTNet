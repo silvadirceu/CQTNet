{
 "cells": [
  {
   "cell_type": "code",
   "execution_count": 2,
   "metadata": {},
   "outputs": [
    {
     "name": "stdout",
     "output_type": "stream",
     "text": [
      "Collecting openvino\n",
      "  Downloading openvino-2024.1.0-15008-cp39-cp39-macosx_10_12_x86_64.whl.metadata (8.8 kB)\n",
      "Requirement already satisfied: numpy<2.0.0,>=1.16.6 in /Users/dirceusilva/.pyenv/versions/3.9.19/envs/audio/lib/python3.9/site-packages (from openvino) (1.26.4)\n",
      "Collecting openvino-telemetry>=2023.2.1 (from openvino)\n",
      "  Downloading openvino_telemetry-2024.1.0-py3-none-any.whl.metadata (2.3 kB)\n",
      "Requirement already satisfied: packaging in /Users/dirceusilva/.pyenv/versions/3.9.19/envs/audio/lib/python3.9/site-packages (from openvino) (24.0)\n",
      "Downloading openvino-2024.1.0-15008-cp39-cp39-macosx_10_12_x86_64.whl (33.8 MB)\n",
      "\u001b[2K   \u001b[90m━━━━━━━━━━━━━━━━━━━━━━━━━━━━━━━━━━━━━━━━\u001b[0m \u001b[32m33.8/33.8 MB\u001b[0m \u001b[31m3.7 MB/s\u001b[0m eta \u001b[36m0:00:00\u001b[0m00:01\u001b[0m00:01\u001b[0m\n",
      "\u001b[?25hDownloading openvino_telemetry-2024.1.0-py3-none-any.whl (23 kB)\n",
      "Installing collected packages: openvino-telemetry, openvino\n",
      "Successfully installed openvino-2024.1.0 openvino-telemetry-2024.1.0\n"
     ]
    }
   ],
   "source": [
    "!pip install openvino"
   ]
  },
  {
   "cell_type": "code",
   "execution_count": 1,
   "metadata": {},
   "outputs": [],
   "source": [
    "import sys\n",
    "sys.path.append(\"..\")\n",
    "import torch\n",
    "from models.CQTNet import CQTNet, CQTNetSetlist\n",
    "import openvino as ov\n",
    "import os"
   ]
  },
  {
   "cell_type": "markdown",
   "metadata": {},
   "source": [
    "# Convert CQTNet"
   ]
  },
  {
   "cell_type": "code",
   "execution_count": 7,
   "metadata": {},
   "outputs": [],
   "source": [
    "CQTNET_MODEL_PATH = \"check_points/CQTNet.pth\"\n",
    "CQTNET_OV_MODEL_PATH = \"/home/lennon/workspace/CQTNet/check_points/openvino/CQTNET.xml\""
   ]
  },
  {
   "cell_type": "code",
   "execution_count": 8,
   "metadata": {},
   "outputs": [],
   "source": [
    "cqtnet_model = CQTNet()\n",
    "cqtnet_model.load_state_dict(torch.load(CQTNET_MODEL_PATH, map_location=torch.device('cpu')))\n",
    "cqtnet_model.eval()\n",
    "ov_model_cqtnet = ov.convert_model(cqtnet_model)"
   ]
  },
  {
   "cell_type": "code",
   "execution_count": 9,
   "metadata": {},
   "outputs": [
    {
     "name": "stdout",
     "output_type": "stream",
     "text": [
      "OpenVino model created\n"
     ]
    }
   ],
   "source": [
    "if not os.path.isfile(CQTNET_OV_MODEL_PATH):\n",
    "    ov.save_model(ov_model_cqtnet, CQTNET_OV_MODEL_PATH)\n",
    "    print(\"OpenVino model created\")\n",
    "else:\n",
    "    print(\"OpenVino model already exists\")"
   ]
  },
  {
   "cell_type": "markdown",
   "metadata": {},
   "source": [
    "# Convert CQTNet Finetuned"
   ]
  },
  {
   "cell_type": "code",
   "execution_count": 12,
   "metadata": {},
   "outputs": [],
   "source": [
    "CQTNET_MODEL_PATH = \"check_points/finetuning/latest.pth\"\n",
    "CQTNET_OV_MODEL_PATH = \"check_points/openvino/CQTNET_v2_1.xml\""
   ]
  },
  {
   "cell_type": "code",
   "execution_count": 3,
   "metadata": {},
   "outputs": [
    {
     "data": {
      "text/plain": [
       "CQTNetSetlist(\n",
       "  (features): Sequential(\n",
       "    (conv0): Conv2d(1, 32, kernel_size=(12, 3), stride=(1, 1), padding=(6, 0), bias=False)\n",
       "    (norm0): BatchNorm2d(32, eps=1e-05, momentum=0.1, affine=True, track_running_stats=True)\n",
       "    (relu0): ReLU(inplace=True)\n",
       "    (conv1): Conv2d(32, 64, kernel_size=(13, 3), stride=(1, 1), dilation=(1, 2), bias=False)\n",
       "    (norm1): BatchNorm2d(64, eps=1e-05, momentum=0.1, affine=True, track_running_stats=True)\n",
       "    (relu1): ReLU(inplace=True)\n",
       "    (pool1): MaxPool2d(kernel_size=(1, 2), stride=(1, 2), padding=(0, 1), dilation=1, ceil_mode=False)\n",
       "    (conv2): Conv2d(64, 64, kernel_size=(13, 3), stride=(1, 1), bias=False)\n",
       "    (norm2): BatchNorm2d(64, eps=1e-05, momentum=0.1, affine=True, track_running_stats=True)\n",
       "    (relu2): ReLU(inplace=True)\n",
       "    (conv3): Conv2d(64, 64, kernel_size=(3, 3), stride=(1, 1), dilation=(1, 2), bias=False)\n",
       "    (norm3): BatchNorm2d(64, eps=1e-05, momentum=0.1, affine=True, track_running_stats=True)\n",
       "    (relu3): ReLU(inplace=True)\n",
       "    (pool3): MaxPool2d(kernel_size=(1, 2), stride=(1, 2), padding=(0, 1), dilation=1, ceil_mode=False)\n",
       "    (conv4): Conv2d(64, 128, kernel_size=(3, 3), stride=(1, 1), bias=False)\n",
       "    (norm4): BatchNorm2d(128, eps=1e-05, momentum=0.1, affine=True, track_running_stats=True)\n",
       "    (relu4): ReLU(inplace=True)\n",
       "    (conv5): Conv2d(128, 128, kernel_size=(3, 3), stride=(1, 1), dilation=(1, 2), bias=False)\n",
       "    (norm5): BatchNorm2d(128, eps=1e-05, momentum=0.1, affine=True, track_running_stats=True)\n",
       "    (relu5): ReLU(inplace=True)\n",
       "    (pool5): MaxPool2d(kernel_size=(1, 2), stride=(1, 2), padding=(0, 1), dilation=1, ceil_mode=False)\n",
       "    (conv6): Conv2d(128, 256, kernel_size=(3, 3), stride=(1, 1), bias=False)\n",
       "    (norm6): BatchNorm2d(256, eps=1e-05, momentum=0.1, affine=True, track_running_stats=True)\n",
       "    (relu6): ReLU(inplace=True)\n",
       "    (conv7): Conv2d(256, 256, kernel_size=(3, 3), stride=(1, 1), dilation=(1, 2), bias=False)\n",
       "    (norm7): BatchNorm2d(256, eps=1e-05, momentum=0.1, affine=True, track_running_stats=True)\n",
       "    (relu7): ReLU(inplace=True)\n",
       "    (pool7): MaxPool2d(kernel_size=(1, 2), stride=(1, 2), padding=(0, 1), dilation=1, ceil_mode=False)\n",
       "    (conv8): Conv2d(256, 512, kernel_size=(3, 3), stride=(1, 1), bias=False)\n",
       "    (norm8): BatchNorm2d(512, eps=1e-05, momentum=0.1, affine=True, track_running_stats=True)\n",
       "    (relu8): ReLU(inplace=True)\n",
       "    (conv9): Conv2d(512, 512, kernel_size=(3, 3), stride=(1, 1), dilation=(1, 2), bias=False)\n",
       "    (norm9): BatchNorm2d(512, eps=1e-05, momentum=0.1, affine=True, track_running_stats=True)\n",
       "    (relu9): ReLU(inplace=True)\n",
       "  )\n",
       "  (pool): AdaptiveMaxPool2d(output_size=(1, 1))\n",
       "  (fc0): Linear(in_features=512, out_features=300, bias=True)\n",
       "  (fc1): Linear(in_features=300, out_features=6191, bias=True)\n",
       ")"
      ]
     },
     "execution_count": 3,
     "metadata": {},
     "output_type": "execute_result"
    }
   ],
   "source": [
    "cqtnet_model = CQTNetSetlist() #CQTNet()\n",
    "cqtnet_model.load_state_dict(torch.load(CQTNET_MODEL_PATH, map_location=torch.device('cpu')))\n",
    "cqtnet_model.eval()"
   ]
  },
  {
   "cell_type": "code",
   "execution_count": 10,
   "metadata": {},
   "outputs": [],
   "source": [
    "from openvino.runtime import PartialShape\n",
    "# input_shape = (1, 1, 128, 64)\n",
    "# dummy_input = torch.randn(input_shape)\n",
    "ov_model_cqtnet = ov.convert_model(cqtnet_model, input=(PartialShape([-1, -1, -1, -1]), ov.Type.f32))"
   ]
  },
  {
   "cell_type": "code",
   "execution_count": 11,
   "metadata": {},
   "outputs": [
    {
     "data": {
      "text/plain": [
       "<Model: 'Model10'\n",
       "inputs[\n",
       "<ConstOutput: names[x] shape[?,?,?,?] type: f32>\n",
       "]\n",
       "outputs[\n",
       "<ConstOutput: names[feature.1] shape[?,300] type: f32>\n",
       "]>"
      ]
     },
     "execution_count": 11,
     "metadata": {},
     "output_type": "execute_result"
    }
   ],
   "source": [
    "ov_model_cqtnet"
   ]
  },
  {
   "cell_type": "code",
   "execution_count": 6,
   "metadata": {},
   "outputs": [
    {
     "data": {
      "text/plain": [
       "=================================================================\n",
       "Layer (type:depth-idx)                   Param #\n",
       "=================================================================\n",
       "CQTNetSetlist                            --\n",
       "├─Sequential: 1-1                        --\n",
       "│    └─Conv2d: 2-1                       (1,152)\n",
       "│    └─BatchNorm2d: 2-2                  (64)\n",
       "│    └─ReLU: 2-3                         --\n",
       "│    └─Conv2d: 2-4                       (79,872)\n",
       "│    └─BatchNorm2d: 2-5                  (128)\n",
       "│    └─ReLU: 2-6                         --\n",
       "│    └─MaxPool2d: 2-7                    --\n",
       "│    └─Conv2d: 2-8                       (159,744)\n",
       "│    └─BatchNorm2d: 2-9                  (128)\n",
       "│    └─ReLU: 2-10                        --\n",
       "│    └─Conv2d: 2-11                      (36,864)\n",
       "│    └─BatchNorm2d: 2-12                 (128)\n",
       "│    └─ReLU: 2-13                        --\n",
       "│    └─MaxPool2d: 2-14                   --\n",
       "│    └─Conv2d: 2-15                      (73,728)\n",
       "│    └─BatchNorm2d: 2-16                 (256)\n",
       "│    └─ReLU: 2-17                        --\n",
       "│    └─Conv2d: 2-18                      (147,456)\n",
       "│    └─BatchNorm2d: 2-19                 (256)\n",
       "│    └─ReLU: 2-20                        --\n",
       "│    └─MaxPool2d: 2-21                   --\n",
       "│    └─Conv2d: 2-22                      (294,912)\n",
       "│    └─BatchNorm2d: 2-23                 (512)\n",
       "│    └─ReLU: 2-24                        --\n",
       "│    └─Conv2d: 2-25                      (589,824)\n",
       "│    └─BatchNorm2d: 2-26                 (512)\n",
       "│    └─ReLU: 2-27                        --\n",
       "│    └─MaxPool2d: 2-28                   --\n",
       "│    └─Conv2d: 2-29                      (1,179,648)\n",
       "│    └─BatchNorm2d: 2-30                 (1,024)\n",
       "│    └─ReLU: 2-31                        --\n",
       "│    └─Conv2d: 2-32                      (2,359,296)\n",
       "│    └─BatchNorm2d: 2-33                 (1,024)\n",
       "│    └─ReLU: 2-34                        --\n",
       "├─AdaptiveMaxPool2d: 1-2                 --\n",
       "├─Linear: 1-3                            (153,900)\n",
       "├─Linear: 1-4                            (1,863,491)\n",
       "=================================================================\n",
       "Total params: 6,943,919\n",
       "Trainable params: 0\n",
       "Non-trainable params: 6,943,919\n",
       "================================================================="
      ]
     },
     "execution_count": 6,
     "metadata": {},
     "output_type": "execute_result"
    }
   ],
   "source": [
    "from torchinfo import summary\n",
    "\n",
    "summary(cqtnet_model)"
   ]
  },
  {
   "cell_type": "code",
   "execution_count": 13,
   "metadata": {},
   "outputs": [
    {
     "name": "stdout",
     "output_type": "stream",
     "text": [
      "OpenVino model created\n"
     ]
    }
   ],
   "source": [
    "if not os.path.isfile(CQTNET_OV_MODEL_PATH):\n",
    "    ov.save_model(ov_model_cqtnet, CQTNET_OV_MODEL_PATH)\n",
    "    print(\"OpenVino model created\")\n",
    "else:\n",
    "    print(\"OpenVino model already exists\")"
   ]
  }
 ],
 "metadata": {
  "kernelspec": {
   "display_name": "feature_extraction",
   "language": "python",
   "name": "python3"
  },
  "language_info": {
   "codemirror_mode": {
    "name": "ipython",
    "version": 3
   },
   "file_extension": ".py",
   "mimetype": "text/x-python",
   "name": "python",
   "nbconvert_exporter": "python",
   "pygments_lexer": "ipython3",
   "version": "3.9.19"
  }
 },
 "nbformat": 4,
 "nbformat_minor": 2
}
